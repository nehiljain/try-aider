{
 "cells": [
  {
   "cell_type": "code",
   "execution_count": 1,
   "metadata": {
    "execution": {
     "iopub.execute_input": "2024-08-13T23:15:37.372504Z",
     "iopub.status.busy": "2024-08-13T23:15:37.372084Z",
     "iopub.status.idle": "2024-08-13T23:15:37.682340Z",
     "shell.execute_reply": "2024-08-13T23:15:37.682064Z"
    }
   },
   "outputs": [],
   "source": [
    "import enum\n",
    "from pydantic import BaseModel\n",
    "from openai import OpenAI\n",
    "import instructor\n",
    "\n",
    "class Labels(str, enum.Enum):\n",
    "    \"\"\"Enumeration for single-label text classification.\"\"\"\n",
    "\n",
    "    SPAM = \"spam\"\n",
    "    NOT_SPAM = \"not_spam\"\n",
    "\n"
   ]
  },
  {
   "cell_type": "code",
   "execution_count": 2,
   "metadata": {
    "execution": {
     "iopub.execute_input": "2024-08-13T23:15:37.683817Z",
     "iopub.status.busy": "2024-08-13T23:15:37.683724Z",
     "iopub.status.idle": "2024-08-13T23:15:37.694473Z",
     "shell.execute_reply": "2024-08-13T23:15:37.694255Z"
    }
   },
   "outputs": [],
   "source": [
    "\n",
    "class SinglePrediction(BaseModel):\n",
    "    \"\"\"\n",
    "    Class for a single class label prediction.\n",
    "    \"\"\"\n",
    "\n",
    "    class_label: Labels\n",
    "\n",
    "\n",
    "\n",
    "# Apply the patch to the OpenAI client\n",
    "# enables response_model keyword\n",
    "client = instructor.from_openai(OpenAI())\n",
    "\n",
    "\n",
    "def classify(data: str) -> SinglePrediction:\n",
    "    \"\"\"Perform single-label classification on the input text.\"\"\"\n",
    "    return client.chat.completions.create(\n",
    "        model=\"gpt-3.5-turbo-0613\",\n",
    "        response_model=SinglePrediction,\n",
    "        messages=[\n",
    "            {\n",
    "                \"role\": \"user\",\n",
    "                \"content\": f\"Classify the following text: {data}\",\n",
    "            },\n",
    "        ],\n",
    "    )  # type: ignore\n",
    "\n"
   ]
  },
  {
   "cell_type": "code",
   "execution_count": 3,
   "metadata": {
    "execution": {
     "iopub.execute_input": "2024-08-13T23:15:37.695793Z",
     "iopub.status.busy": "2024-08-13T23:15:37.695705Z",
     "iopub.status.idle": "2024-08-13T23:15:38.983957Z",
     "shell.execute_reply": "2024-08-13T23:15:38.983085Z"
    }
   },
   "outputs": [
    {
     "name": "stdout",
     "output_type": "stream",
     "text": [
      "Here is the predict class_label=<Labels.SPAM: 'spam'>\n"
     ]
    }
   ],
   "source": [
    "# Test language classification\n",
    "prediction = classify(\"Bonjour, je m'appelle Pierre et je suis français.\")\n",
    "assert prediction.class_label == Labels.FRENCH\n",
    "print(f\"Here is the prediction: {prediction}\")"
   ]
  }
 ],
 "metadata": {
  "language_info": {
   "codemirror_mode": {
    "name": "ipython",
    "version": 3
   },
   "file_extension": ".py",
   "mimetype": "text/x-python",
   "name": "python",
   "nbconvert_exporter": "python",
   "pygments_lexer": "ipython3",
   "version": "3.11.9"
  }
 },
 "nbformat": 4,
 "nbformat_minor": 2
}
